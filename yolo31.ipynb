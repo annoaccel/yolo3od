{
 "cells": [
  {
   "cell_type": "code",
   "execution_count": 1,
   "metadata": {},
   "outputs": [],
   "source": [
    "import cv2\n",
    "import matplotlib.pyplot as plt\n",
    "import numpy as np\n",
    "import sys\n",
    "import os\n",
    "import time"
   ]
  },
  {
   "cell_type": "code",
   "execution_count": 2,
   "metadata": {},
   "outputs": [],
   "source": [
    "net=cv2.dnn.readNet(r'C:\\Users\\ravi\\Desktop\\shubhakrit\\cv\\quantumcv\\quantumcv\\qcv\\yolo\\yolov3-tiny.weights',r'C:\\Users\\ravi\\Desktop\\shubhakrit\\cv\\quantumcv\\quantumcv\\qcv\\yolo\\yolov3-tiny.cfg.txt')"
   ]
  },
  {
   "cell_type": "code",
   "execution_count": 3,
   "metadata": {},
   "outputs": [],
   "source": [
    "classes=[]\n",
    "with open(r'C:\\Users\\ravi\\Desktop\\shubhakrit\\cv\\quantumcv\\quantumcv\\qcv\\yolo\\coco.names.txt','r') as f:\n",
    "    classes=f.read().splitlines()"
   ]
  },
  {
   "cell_type": "code",
   "execution_count": 4,
   "metadata": {},
   "outputs": [
    {
     "data": {
      "text/plain": [
       "'bicycle'"
      ]
     },
     "execution_count": 4,
     "metadata": {},
     "output_type": "execute_result"
    }
   ],
   "source": [
    "classes[1]"
   ]
  },
  {
   "cell_type": "code",
   "execution_count": 5,
   "metadata": {},
   "outputs": [
    {
     "data": {
      "text/plain": [
       "['person',\n",
       " 'bicycle',\n",
       " 'car',\n",
       " 'motorbike',\n",
       " 'aeroplane',\n",
       " 'bus',\n",
       " 'train',\n",
       " 'truck',\n",
       " 'boat',\n",
       " 'traffic light',\n",
       " 'fire hydrant',\n",
       " 'stop sign',\n",
       " 'parking meter',\n",
       " 'bench',\n",
       " 'bird',\n",
       " 'cat',\n",
       " 'dog',\n",
       " 'horse',\n",
       " 'sheep',\n",
       " 'cow',\n",
       " 'elephant',\n",
       " 'bear',\n",
       " 'zebra',\n",
       " 'giraffe',\n",
       " 'backpack',\n",
       " 'umbrella',\n",
       " 'handbag',\n",
       " 'tie',\n",
       " 'suitcase',\n",
       " 'frisbee',\n",
       " 'skis',\n",
       " 'snowboard',\n",
       " 'sports ball',\n",
       " 'kite',\n",
       " 'baseball bat',\n",
       " 'baseball glove',\n",
       " 'skateboard',\n",
       " 'surfboard',\n",
       " 'tennis racket',\n",
       " 'bottle',\n",
       " 'wine glass',\n",
       " 'cup',\n",
       " 'fork',\n",
       " 'knife',\n",
       " 'spoon',\n",
       " 'bowl',\n",
       " 'banana',\n",
       " 'apple',\n",
       " 'sandwich',\n",
       " 'orange',\n",
       " 'broccoli',\n",
       " 'carrot',\n",
       " 'hot dog',\n",
       " 'pizza',\n",
       " 'donut',\n",
       " 'cake',\n",
       " 'chair',\n",
       " 'sofa',\n",
       " 'pottedplant',\n",
       " 'bed',\n",
       " 'diningtable',\n",
       " 'toilet',\n",
       " 'tvmonitor',\n",
       " 'laptop',\n",
       " 'mouse',\n",
       " 'remote',\n",
       " 'keyboard',\n",
       " 'cell phone',\n",
       " 'microwave',\n",
       " 'oven',\n",
       " 'toaster',\n",
       " 'sink',\n",
       " 'refrigerator',\n",
       " 'book',\n",
       " 'clock',\n",
       " 'vase',\n",
       " 'scissors',\n",
       " 'teddy bear',\n",
       " 'hair drier',\n",
       " 'toothbrush']"
      ]
     },
     "execution_count": 5,
     "metadata": {},
     "output_type": "execute_result"
    }
   ],
   "source": [
    "classes"
   ]
  },
  {
   "cell_type": "code",
   "execution_count": 6,
   "metadata": {},
   "outputs": [],
   "source": [
    "\n",
    "def post_process(img, outputs, conf):\n",
    "    print(\"post process\")\n",
    "    H, W = img.shape[:2]\n",
    "\n",
    "    boxes = []\n",
    "    confidences = []\n",
    "    classIDs = []\n",
    "\n",
    "    for output in outputs:\n",
    "        scores = output[5:]\n",
    "        classID = np.argmax(scores)\n",
    "        confidence = scores[classID]\n",
    "        if confidence > conf:\n",
    "            x, y, w, h = output[:4] * np.array([W, H, W, H])\n",
    "            p0 = int(x - w//2), int(y - h//2)\n",
    "            p1 = int(x + w//2), int(y + h//2)\n",
    "            boxes.append([*p0, int(w), int(h)])\n",
    "            confidences.append(float(confidence))\n",
    "            classIDs.append(classID)\n",
    "            # cv.rectangle(img, p0, p1, WHITE, 1)\n",
    "\n",
    "    indices = cv2.dnn.NMSBoxes(boxes, confidences, conf, conf-0.1)\n",
    "    if len(indices) > 0:\n",
    "        for i in indices.flatten():\n",
    "            (x, y) = (boxes[i][0], boxes[i][1])\n",
    "            (w, h) = (boxes[i][2], boxes[i][3])\n",
    "            color = [int(c) for c in colors[classIDs[i]]]\n",
    "            cv.rectangle(img, (x, y), (x + w, y + h), color, 2)\n",
    "            text = \"{}: {:.4f}\".format(classes[classIDs[i]], confidences[i])\n",
    "            \n",
    "            cv2.putText(img, text, (x, y - 5), cv2.FONT_HERSHEY_SIMPLEX, 0.5, color, 1)\n",
    "    return "
   ]
  },
  {
   "cell_type": "code",
   "execution_count": 7,
   "metadata": {},
   "outputs": [],
   "source": [
    "ln = net.getLayerNames()\n",
    "ln = [ln[i[0] - 1] for i in net.getUnconnectedOutLayers()]"
   ]
  },
  {
   "cell_type": "code",
   "execution_count": 8,
   "metadata": {},
   "outputs": [],
   "source": [
    "def yoloff(img,post_process,ln):\n",
    "    \n",
    "    blob = cv2.dnn.blobFromImage(img, 1/255.0, (416, 416), swapRB=True, crop=False)\n",
    "\n",
    "    yolo.setInput(blob)\n",
    "    t0 = time.time()\n",
    "    outputs = yolo.forward(ln)\n",
    "    t = time.time() - t0\n",
    "\n",
    "    # combine the 3 output groups into 1 (10647, 85)\n",
    "    # large objects (507, 85)\n",
    "    # medium objects (2028, 85)\n",
    "    # small objects (8112, 85)\n",
    "    outputs = np.vstack(outputs)\n",
    "\n",
    "    post_process(img, outputs, 0.5)\n",
    "    cv2.imshow('window1',  img)\n",
    "    #cv2.displayOverlay('window', f'forward propagation time={t:.3}')\n",
    "    cv2.waitKey(2000)\n",
    "    cv2.destroyAllWindows()\n",
    "\n",
    "    \n",
    "    return img"
   ]
  },
  {
   "cell_type": "markdown",
   "metadata": {},
   "source": [
    "yoloff(img,post_process,ln)"
   ]
  },
  {
   "cell_type": "markdown",
   "metadata": {},
   "source": [
    "final yolo"
   ]
  },
  {
   "cell_type": "code",
   "execution_count": 9,
   "metadata": {},
   "outputs": [],
   "source": [
    "\n",
    "colors = np.random.randint(0, 255, size=(len(classes), 3), dtype='uint8')\n"
   ]
  },
  {
   "cell_type": "code",
   "execution_count": 10,
   "metadata": {},
   "outputs": [],
   "source": [
    "import shutil"
   ]
  },
  {
   "cell_type": "code",
   "execution_count": 11,
   "metadata": {},
   "outputs": [],
   "source": [
    "def post_process(img, outputs, conf):\n",
    "    \n",
    "    unique_filename = str(uuid.uuid4())\n",
    "    H, W = img.shape[:2]\n",
    "\n",
    "    boxes = []\n",
    "    confidences = []\n",
    "    classIDs = []\n",
    "\n",
    "    for output in outputs:\n",
    "        scores = output[5:]\n",
    "        classID = np.argmax(scores)\n",
    "        confidence = scores[classID]\n",
    "        if confidence > conf:\n",
    "            x, y, w, h = output[:4] * np.array([W, H, W, H])\n",
    "            p0 = int(x - w//2), int(y - h//2)\n",
    "            p1 = int(x + w//2), int(y + h//2)\n",
    "            boxes.append([*p0, int(w), int(h)])\n",
    "            confidences.append(float(confidence))\n",
    "            classIDs.append(classID)\n",
    "            # cv.rectangle(img, p0, p1, WHITE, 1)\n",
    "\n",
    "    objects=r'C:\\Users\\ravi\\Desktop\\shubhakrit\\cv\\quantumcv\\quantumcv\\qcv\\objects'\n",
    "    shutil.rmtree(objects)\n",
    "    os.mkdir(objects)\n",
    "    indices = cv2.dnn.NMSBoxes(boxes, confidences, conf, conf-0.1)\n",
    "    \n",
    "    lbls=[]\n",
    "    if len(indices) > 0:\n",
    "        for i in indices.flatten():\n",
    "            (x, y) = (boxes[i][0], boxes[i][1])\n",
    "            (w, h) = (boxes[i][2], boxes[i][3])\n",
    "            color = [int(c) for c in colors[classIDs[i]]]\n",
    "            cv2.rectangle(img, (x, y), (x + w, y + h), color, 2)\n",
    "            \n",
    "            text = \"{}: {:.4f}\".format(classes[classIDs[i]], confidences[i])\n",
    "            #cv2.putText(img, text, (x, y - 5), cv2.FONT_HERSHEY_SIMPLEX, 0.5, color, 1)\n",
    "            crop_img = img[y:y+h, x:x+w]\n",
    "            lbl=classes[classIDs[i]]\n",
    "            kk=unique_filename+str(lbl)+str(i)+'.jpg'\n",
    "            filename=os.path.join(objects,kk)\n",
    "            print(filename)\n",
    "            cv2.imwrite(filename,crop_img)\n",
    "            lbls.append(lbl)\n",
    "                      \n",
    "            \n",
    "            \n",
    "    return img,lbls"
   ]
  },
  {
   "cell_type": "code",
   "execution_count": 12,
   "metadata": {},
   "outputs": [],
   "source": [
    "import uuid\n"
   ]
  },
  {
   "cell_type": "code",
   "execution_count": 13,
   "metadata": {},
   "outputs": [],
   "source": [
    "def countsk(classes,lbls):\n",
    "    lbls=list(lbls)\n",
    "    pps=[]\n",
    "    for i in range (len(classes)):\n",
    "        object_count = lbls.count(classes[i])\n",
    "        #print(object_count)\n",
    "        pp={str(classes[i]):object_count}\n",
    "        #print(pp)\n",
    "        pps.append(pp)\n",
    "    return pps"
   ]
  },
  {
   "cell_type": "code",
   "execution_count": 14,
   "metadata": {},
   "outputs": [],
   "source": [
    "def load_imageyolo(img):\n",
    "    conf=0.3\n",
    "\n",
    "    img0 = img.copy()\n",
    "    \n",
    "    blob = cv2.dnn.blobFromImage(img, 1/255.0, (416, 416), swapRB=True, crop=False)\n",
    "\n",
    "    net.setInput(blob)\n",
    "    t0 = time.time()\n",
    "    outputs = net.forward(ln)\n",
    "\n",
    "\n",
    "    # combine the 3 output groups into 1 (10647, 85)\n",
    "    # large objects (507, 85)\n",
    "    # medium objects (2028, 85)\n",
    "    # small objects (8112, 85)\n",
    "    outputs = np.vstack(outputs)\n",
    "\n",
    "    img,lbls=post_process(img, outputs, conf)\n",
    "    #cv2.imshow('window',  img)\n",
    "    #cv2.displayOverlay('window', f'forward propagation time={t:.3}')\n",
    "    #cv2.waitKey(2000)\n",
    "    #cv2.destroyAllWindows()\n",
    "    counts=countsk(classes,lbls)\n",
    "    \n",
    "    return lbls, counts"
   ]
  },
  {
   "cell_type": "code",
   "execution_count": 15,
   "metadata": {},
   "outputs": [],
   "source": [
    "#testimage=r'C:\\Users\\ravi\\Desktop\\quantumcv\\quantumcv\\qcv\\frame.jpg'\n",
    "testimage=r'C:\\Users\\ravi\\Desktop\\shubhakrit\\cv\\quantumcv\\quantumcv\\qcv\\modi.jpg'\n",
    "testimage=cv2.imread(testimage)"
   ]
  },
  {
   "cell_type": "markdown",
   "metadata": {},
   "source": [
    "\n",
    "cv2.imshow('frame',testimage)\n",
    "cv2.waitKey(1000)\n",
    "cv2.destroyAllWindows()"
   ]
  },
  {
   "cell_type": "code",
   "execution_count": 16,
   "metadata": {},
   "outputs": [
    {
     "name": "stdout",
     "output_type": "stream",
     "text": [
      "C:\\Users\\ravi\\Desktop\\shubhakrit\\cv\\quantumcv\\quantumcv\\qcv\\objects\\46159a81-dad9-46ce-80c1-390de2858ed0person12.jpg\n",
      "C:\\Users\\ravi\\Desktop\\shubhakrit\\cv\\quantumcv\\quantumcv\\qcv\\objects\\46159a81-dad9-46ce-80c1-390de2858ed0person6.jpg\n",
      "C:\\Users\\ravi\\Desktop\\shubhakrit\\cv\\quantumcv\\quantumcv\\qcv\\objects\\46159a81-dad9-46ce-80c1-390de2858ed0person10.jpg\n",
      "C:\\Users\\ravi\\Desktop\\shubhakrit\\cv\\quantumcv\\quantumcv\\qcv\\objects\\46159a81-dad9-46ce-80c1-390de2858ed0person8.jpg\n",
      "C:\\Users\\ravi\\Desktop\\shubhakrit\\cv\\quantumcv\\quantumcv\\qcv\\objects\\46159a81-dad9-46ce-80c1-390de2858ed0person3.jpg\n",
      "C:\\Users\\ravi\\Desktop\\shubhakrit\\cv\\quantumcv\\quantumcv\\qcv\\objects\\46159a81-dad9-46ce-80c1-390de2858ed0person9.jpg\n",
      "C:\\Users\\ravi\\Desktop\\shubhakrit\\cv\\quantumcv\\quantumcv\\qcv\\objects\\46159a81-dad9-46ce-80c1-390de2858ed0person15.jpg\n",
      "C:\\Users\\ravi\\Desktop\\shubhakrit\\cv\\quantumcv\\quantumcv\\qcv\\objects\\46159a81-dad9-46ce-80c1-390de2858ed0person0.jpg\n",
      "C:\\Users\\ravi\\Desktop\\shubhakrit\\cv\\quantumcv\\quantumcv\\qcv\\objects\\46159a81-dad9-46ce-80c1-390de2858ed0person1.jpg\n",
      "C:\\Users\\ravi\\Desktop\\shubhakrit\\cv\\quantumcv\\quantumcv\\qcv\\objects\\46159a81-dad9-46ce-80c1-390de2858ed0tie19.jpg\n",
      "C:\\Users\\ravi\\Desktop\\shubhakrit\\cv\\quantumcv\\quantumcv\\qcv\\objects\\46159a81-dad9-46ce-80c1-390de2858ed0tie20.jpg\n",
      "C:\\Users\\ravi\\Desktop\\shubhakrit\\cv\\quantumcv\\quantumcv\\qcv\\objects\\46159a81-dad9-46ce-80c1-390de2858ed0tie21.jpg\n",
      "['person', 'person', 'person', 'person', 'person', 'person', 'person', 'person', 'person', 'tie', 'tie', 'tie']\n"
     ]
    }
   ],
   "source": [
    "conf=0.6\n",
    "lbls,counts=load_imageyolo(testimage)\n",
    "print(lbls)\n",
    "pps=countsk(classes,lbls)"
   ]
  },
  {
   "cell_type": "code",
   "execution_count": 17,
   "metadata": {},
   "outputs": [
    {
     "data": {
      "text/plain": [
       "[{'person': 9},\n",
       " {'bicycle': 0},\n",
       " {'car': 0},\n",
       " {'motorbike': 0},\n",
       " {'aeroplane': 0},\n",
       " {'bus': 0},\n",
       " {'train': 0},\n",
       " {'truck': 0},\n",
       " {'boat': 0},\n",
       " {'traffic light': 0},\n",
       " {'fire hydrant': 0},\n",
       " {'stop sign': 0},\n",
       " {'parking meter': 0},\n",
       " {'bench': 0},\n",
       " {'bird': 0},\n",
       " {'cat': 0},\n",
       " {'dog': 0},\n",
       " {'horse': 0},\n",
       " {'sheep': 0},\n",
       " {'cow': 0},\n",
       " {'elephant': 0},\n",
       " {'bear': 0},\n",
       " {'zebra': 0},\n",
       " {'giraffe': 0},\n",
       " {'backpack': 0},\n",
       " {'umbrella': 0},\n",
       " {'handbag': 0},\n",
       " {'tie': 3},\n",
       " {'suitcase': 0},\n",
       " {'frisbee': 0},\n",
       " {'skis': 0},\n",
       " {'snowboard': 0},\n",
       " {'sports ball': 0},\n",
       " {'kite': 0},\n",
       " {'baseball bat': 0},\n",
       " {'baseball glove': 0},\n",
       " {'skateboard': 0},\n",
       " {'surfboard': 0},\n",
       " {'tennis racket': 0},\n",
       " {'bottle': 0},\n",
       " {'wine glass': 0},\n",
       " {'cup': 0},\n",
       " {'fork': 0},\n",
       " {'knife': 0},\n",
       " {'spoon': 0},\n",
       " {'bowl': 0},\n",
       " {'banana': 0},\n",
       " {'apple': 0},\n",
       " {'sandwich': 0},\n",
       " {'orange': 0},\n",
       " {'broccoli': 0},\n",
       " {'carrot': 0},\n",
       " {'hot dog': 0},\n",
       " {'pizza': 0},\n",
       " {'donut': 0},\n",
       " {'cake': 0},\n",
       " {'chair': 0},\n",
       " {'sofa': 0},\n",
       " {'pottedplant': 0},\n",
       " {'bed': 0},\n",
       " {'diningtable': 0},\n",
       " {'toilet': 0},\n",
       " {'tvmonitor': 0},\n",
       " {'laptop': 0},\n",
       " {'mouse': 0},\n",
       " {'remote': 0},\n",
       " {'keyboard': 0},\n",
       " {'cell phone': 0},\n",
       " {'microwave': 0},\n",
       " {'oven': 0},\n",
       " {'toaster': 0},\n",
       " {'sink': 0},\n",
       " {'refrigerator': 0},\n",
       " {'book': 0},\n",
       " {'clock': 0},\n",
       " {'vase': 0},\n",
       " {'scissors': 0},\n",
       " {'teddy bear': 0},\n",
       " {'hair drier': 0},\n",
       " {'toothbrush': 0}]"
      ]
     },
     "execution_count": 17,
     "metadata": {},
     "output_type": "execute_result"
    }
   ],
   "source": [
    "pps"
   ]
  },
  {
   "cell_type": "markdown",
   "metadata": {},
   "source": [
    "color=(255,255,0)\n",
    "text=str(counts)\n",
    "x=200\n",
    "y=200\n",
    "cv2.putText(testimage, text, (x, y - 5), cv2.FONT_HERSHEY_SIMPLEX, 0.5, color, 1)\n",
    "#cv2.imwrite('frame.jpg', frame)\n",
    "cv2.imshow('window',  testimage)\n",
    "cv2.waitKey(20000)\n",
    "cv2.destroyAllWindows()"
   ]
  },
  {
   "cell_type": "markdown",
   "metadata": {},
   "source": [
    "import numpy as np\n",
    "import cv2\n",
    "\n",
    "cap = cv2.VideoCapture(0)\n",
    "\n",
    "while(True):\n",
    "    # Capture frame-by-frame\n",
    "    ret, frame = cap.read()\n",
    "    \n",
    "    w = int(cap.get(cv2.CAP_PROP_FRAME_WIDTH))\n",
    "    h = int(cap.get(cv2.CAP_PROP_FRAME_HEIGHT))\n",
    "\n",
    "    # Our operations on the frame come here\n",
    "    gray = cv2.cvtColor(frame, cv2.COLOR_BGR2GRAY)\n",
    "    gray=frame\n",
    "    lbls,counts=load_imageyolo(frame)\n",
    "    x=200\n",
    "    y=200\n",
    "    text=str(counts)\n",
    "    #color = np.random.randint(0, 255, size=(len(classes), 3), dtype='uint8')\n",
    "    color=(255,255,0)\n",
    "    cv2.putText(frame, text, (x, y - 5), cv2.FONT_HERSHEY_SIMPLEX, 0.5, color, 1)\n",
    "    #cv2.imwrite('frame.jpg', frame)\n",
    "    #ll=inference(frame)\n",
    "    #print(ll)\n",
    "    # Display the resulting frame\n",
    "    cv2.imshow('frame',frame)\n",
    "    if cv2.waitKey(1) & 0xFF == ord('q'):\n",
    "        break\n",
    "\n",
    "# When everything done, release the capture\n",
    "cap.release()\n",
    "cv2.destroyAllWindows()"
   ]
  },
  {
   "cell_type": "code",
   "execution_count": null,
   "metadata": {},
   "outputs": [],
   "source": []
  },
  {
   "cell_type": "code",
   "execution_count": null,
   "metadata": {},
   "outputs": [],
   "source": []
  },
  {
   "cell_type": "code",
   "execution_count": null,
   "metadata": {},
   "outputs": [],
   "source": []
  }
 ],
 "metadata": {
  "kernelspec": {
   "display_name": "qcv",
   "language": "python",
   "name": "qcv"
  },
  "language_info": {
   "codemirror_mode": {
    "name": "ipython",
    "version": 3
   },
   "file_extension": ".py",
   "mimetype": "text/x-python",
   "name": "python",
   "nbconvert_exporter": "python",
   "pygments_lexer": "ipython3",
   "version": "3.9.7"
  },
  "toc": {
   "base_numbering": 1,
   "nav_menu": {},
   "number_sections": true,
   "sideBar": true,
   "skip_h1_title": false,
   "title_cell": "Table of Contents",
   "title_sidebar": "Contents",
   "toc_cell": false,
   "toc_position": {},
   "toc_section_display": true,
   "toc_window_display": false
  }
 },
 "nbformat": 4,
 "nbformat_minor": 4
}
